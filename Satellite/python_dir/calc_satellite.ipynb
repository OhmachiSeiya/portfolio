{
 "cells": [
  {
   "cell_type": "code",
   "execution_count": 10,
   "id": "voluntary-outreach",
   "metadata": {},
   "outputs": [],
   "source": [
    "import numpy as np"
   ]
  },
  {
   "cell_type": "code",
   "execution_count": 165,
   "id": "intended-carnival",
   "metadata": {},
   "outputs": [],
   "source": [
    "class CalcSatellite:\n",
    "  def __init__(self):\n",
    "    \"\"\"\n",
    "    # 参考文献： 「人工衛星をつくる（宮崎康行 著）」\n",
    "    \n",
    "    a … 楕円軌道の長半径\n",
    "    e … 楕円の離心率（地球が楕円の中心からどれだけの割合ずれているかを表す）\n",
    "    i … 軌道傾斜角（楕円軌道面と赤道面がなす角度）\n",
    "    Ω … 昇交点赤経\n",
    "    ω … 近地点引数\n",
    "    θ … 真近点角\n",
    "    \n",
    "    \"\"\"\n",
    "    self.μ_e = 3.986 * 1014  # 地球の重力定数（3.986*1014 [m3/s2]）\n",
    "    self.r_e = 6378          # 地球の半径(6378 [km])\n",
    "    self.j_2 = 0.001082628   # 地球の扁平性を表す定数(0.001082628)\n",
    "  \n",
    "  def velocity(self,a,e,θ):\n",
    "    # 衛星の速さ\n",
    "    v = np.sqrt(\n",
    "      self.μ_e * (1 + e**2 + 2*e*np.cos(θ)) / \\\n",
    "      a * (1 - e**2)\n",
    "    )\n",
    "    return v\n",
    "  \n",
    "  def periodic_time(self,a):\n",
    "    # 衛星が地球を一周する時間\n",
    "    t = 2*np.pi*(a**1.5 / np.sqrt(self.μ_e))\n",
    "    return t\n",
    "  \n",
    "  def sso_check(self, a, e, i, tolerance=10**-5):\n",
    "    \"\"\"\n",
    "    太陽同期軌道（sun_synchronous_orbit）となる条件式の正誤を判定する\n",
    "    太陽同期軌道 … iとaを調整して同じ経度に戻るようにした時の軌道\n",
    "    \n",
    "    tolerance: 許容誤差\n",
    "    \"\"\"\n",
    "    comparison = 1.99 * 10**(-7)\n",
    "    res = -(\n",
    "      (3*self.j_2*self.r_e**2) / (2*a**2*(1-e**2)**2) * \\\n",
    "      np.sqrt(self.μ_e / a**3) * \\\n",
    "      np.cos(i)\n",
    "    )\n",
    "    diff = np.abs(res - comparison)\n",
    "    cond = diff < tolerance\n",
    "    \n",
    "    print(\"条件式: \", f\"{res:.10f}\", \"≈\", f\"{comparison:.10f}\")\n",
    "    print(\"差分: \", diff)\n",
    "    print(\"許容誤差: \", tolerance)\n",
    "    \n",
    "    if cond:\n",
    "      print(\"OK\")\n",
    "    else:\n",
    "      print(\"iとaを調整する必要あり\")\n",
    "  "
   ]
  },
  {
   "cell_type": "code",
   "execution_count": 166,
   "id": "beautiful-cause",
   "metadata": {},
   "outputs": [],
   "source": [
    "cs = CalcSatellite()"
   ]
  },
  {
   "cell_type": "code",
   "execution_count": null,
   "id": "looking-authority",
   "metadata": {},
   "outputs": [],
   "source": []
  },
  {
   "cell_type": "code",
   "execution_count": 167,
   "id": "republican-professional",
   "metadata": {},
   "outputs": [
    {
     "data": {
      "text/plain": [
       "0.7556702860624055"
      ]
     },
     "execution_count": 167,
     "metadata": {},
     "output_type": "execute_result"
    }
   ],
   "source": [
    "cs.velocity(7078,0,0)"
   ]
  },
  {
   "cell_type": "code",
   "execution_count": 168,
   "id": "loving-thought",
   "metadata": {},
   "outputs": [
    {
     "data": {
      "text/plain": [
       "58851.573794109"
      ]
     },
     "execution_count": 168,
     "metadata": {},
     "output_type": "execute_result"
    }
   ],
   "source": [
    "cs.periodic_time(7078)"
   ]
  },
  {
   "cell_type": "code",
   "execution_count": 169,
   "id": "right-death",
   "metadata": {},
   "outputs": [
    {
     "name": "stdout",
     "output_type": "stream",
     "text": [
      "条件式:  -0.0000001408 ≈ 0.0000001990\n",
      "差分:  3.397797580757232e-07\n",
      "許容誤差:  1e-05\n",
      "OK\n"
     ]
    }
   ],
   "source": [
    "cs.sso_check(7078,0,0)"
   ]
  },
  {
   "cell_type": "code",
   "execution_count": 170,
   "id": "flexible-pilot",
   "metadata": {},
   "outputs": [
    {
     "name": "stdout",
     "output_type": "stream",
     "text": [
      "条件式:  -0.0000001408 ≈ 0.0000001990\n",
      "差分:  3.397797580757232e-07\n",
      "許容誤差:  1e-09\n",
      "iとaを調整する必要あり\n"
     ]
    }
   ],
   "source": [
    "cs.sso_check(7078,0,0,tolerance=10**-9)"
   ]
  },
  {
   "cell_type": "code",
   "execution_count": null,
   "id": "breathing-property",
   "metadata": {},
   "outputs": [],
   "source": []
  },
  {
   "cell_type": "code",
   "execution_count": null,
   "id": "chinese-harbor",
   "metadata": {},
   "outputs": [],
   "source": []
  },
  {
   "cell_type": "code",
   "execution_count": null,
   "id": "applicable-department",
   "metadata": {},
   "outputs": [],
   "source": []
  }
 ],
 "metadata": {
  "kernelspec": {
   "display_name": "Python 3",
   "language": "python",
   "name": "python3"
  },
  "language_info": {
   "codemirror_mode": {
    "name": "ipython",
    "version": 3
   },
   "file_extension": ".py",
   "mimetype": "text/x-python",
   "name": "python",
   "nbconvert_exporter": "python",
   "pygments_lexer": "ipython3",
   "version": "3.7.10"
  }
 },
 "nbformat": 4,
 "nbformat_minor": 5
}
