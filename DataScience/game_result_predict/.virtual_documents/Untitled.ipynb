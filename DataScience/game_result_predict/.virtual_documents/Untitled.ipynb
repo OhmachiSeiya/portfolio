import numpy as np
import pandas as pd


train = pd.read_csv('data/train.csv')
test = pd.read_csv('data/test.csv')
sub = pd.read_csv('data/sample_submit.csv')


train


test


sub



